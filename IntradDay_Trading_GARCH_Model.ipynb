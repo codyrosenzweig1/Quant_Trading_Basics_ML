{
 "cells": [
  {
   "cell_type": "markdown",
   "id": "eb3016ed-645e-42b3-81af-9698b27ae733",
   "metadata": {},
   "source": [
    "### Load Simulated daily and simulated 5-minute data"
   ]
  },
  {
   "cell_type": "code",
   "execution_count": 17,
   "id": "a3fc539c-6eed-4b9b-b8c1-a9e26423ecf0",
   "metadata": {},
   "outputs": [
    {
     "data": {
      "text/plain": [
       "array([datetime.date(2021, 9, 29), datetime.date(2021, 9, 29),\n",
       "       datetime.date(2021, 9, 29), ..., datetime.date(2023, 9, 20),\n",
       "       datetime.date(2023, 9, 20), datetime.date(2023, 9, 20)],\n",
       "      dtype=object)"
      ]
     },
     "execution_count": 17,
     "metadata": {},
     "output_type": "execute_result"
    }
   ],
   "source": [
    "import matplotlib.pyplot as plt\n",
    "import numpy as np\n",
    "import pandas as pd\n",
    "from arch import arch_model\n",
    "import os\n",
    "\n",
    "data_folder = \"C:/Users/codyr/Desktop/Coding_/Quant_Trading_Basics\"\n",
    "\n",
    "daily_df = pd.read_csv(os.path.join(data_folder, \"simulated_daily_data.csv\"))\n",
    "\n",
    "daily_df['Date'] = pd.to_datetime(daily_df['Date'])\n",
    "\n",
    "daily_df = daily_df.set_index('Date')\n",
    "\n",
    "daily_df['log_ret'] = np.log(daily_df['Adj Close']).diff()\n",
    "\n",
    "daily_df = daily_df.drop('Unnamed: 7', axis=1)\n",
    "\n",
    "intraday_5min_df = pd.read_csv(os.path.join(data_folder, 'simulated_5min_data.csv'))\n",
    "\n",
    "intraday_5min_df['datetime'] = pd.to_datetime(intraday_5min_df['datetime'])\n",
    "\n",
    "intraday_5min_df = intraday_5min_df.set_index('datetime')\n",
    "\n",
    "intraday_5min_df['date'] = intraday_5min_df.index.date\n",
    "\n",
    "intraday_5min_df = intraday_5min_df.drop('Unnamed: 6', axis=1)\n",
    "\n",
    "intraday_5min_df.index.date"
   ]
  },
  {
   "cell_type": "code",
   "execution_count": null,
   "id": "26fe0d55-daae-4f5f-a52a-812848e4c334",
   "metadata": {},
   "outputs": [],
   "source": []
  },
  {
   "cell_type": "code",
   "execution_count": null,
   "id": "ec388b44-c0b9-4881-bc05-a994da57d052",
   "metadata": {},
   "outputs": [],
   "source": []
  },
  {
   "cell_type": "code",
   "execution_count": null,
   "id": "9acb2b26-8772-4577-b837-4dd1cd177d40",
   "metadata": {},
   "outputs": [],
   "source": []
  },
  {
   "cell_type": "code",
   "execution_count": null,
   "id": "0a8f8683-7147-4f0a-bc73-adb64798bdb4",
   "metadata": {},
   "outputs": [],
   "source": []
  },
  {
   "cell_type": "code",
   "execution_count": null,
   "id": "eea7cb35-0012-446d-99a1-0f6a487e274f",
   "metadata": {},
   "outputs": [],
   "source": []
  },
  {
   "cell_type": "code",
   "execution_count": null,
   "id": "0830c62d-cc20-4c5b-9cb4-ef121cba399f",
   "metadata": {},
   "outputs": [],
   "source": []
  },
  {
   "cell_type": "code",
   "execution_count": null,
   "id": "c473ba7f-b5e1-4609-a1ee-45a804342037",
   "metadata": {},
   "outputs": [],
   "source": []
  },
  {
   "cell_type": "code",
   "execution_count": null,
   "id": "ba6794ee-2044-405d-8e1e-6b7e6019e6b3",
   "metadata": {},
   "outputs": [],
   "source": []
  },
  {
   "cell_type": "code",
   "execution_count": null,
   "id": "e1f428e9-945b-4593-8d84-05890a3881c1",
   "metadata": {},
   "outputs": [],
   "source": []
  },
  {
   "cell_type": "code",
   "execution_count": null,
   "id": "d769bbed-dcd2-4ea7-9cbf-61d5204c9921",
   "metadata": {},
   "outputs": [],
   "source": []
  },
  {
   "cell_type": "code",
   "execution_count": null,
   "id": "d4f1d5ef-4d3e-4c52-95b7-90524c19b47c",
   "metadata": {},
   "outputs": [],
   "source": []
  }
 ],
 "metadata": {
  "kernelspec": {
   "display_name": "Python 3 (ipykernel)",
   "language": "python",
   "name": "python3"
  },
  "language_info": {
   "codemirror_mode": {
    "name": "ipython",
    "version": 3
   },
   "file_extension": ".py",
   "mimetype": "text/x-python",
   "name": "python",
   "nbconvert_exporter": "python",
   "pygments_lexer": "ipython3",
   "version": "3.12.4"
  }
 },
 "nbformat": 4,
 "nbformat_minor": 5
}
